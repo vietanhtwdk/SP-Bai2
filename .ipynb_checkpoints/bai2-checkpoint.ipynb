{
 "cells": [
  {
   "cell_type": "code",
   "execution_count": 1,
   "metadata": {},
   "outputs": [
    {
     "name": "stdout",
     "output_type": "stream",
     "text": [
      "366\n"
     ]
    }
   ],
   "source": [
    "import os\n",
    "class_names = ['cothe', 'khong', 'nguoi', 'toi', 'va']\n",
    "states = [12, 9, 9, 9, 6]\n",
    "\n",
    "length = 0\n",
    "for d in class_names:\n",
    "    length += len(os.listdir(\"content/\" + d))\n",
    "print(length)"
   ]
  },
  {
   "cell_type": "code",
   "execution_count": 2,
   "metadata": {},
   "outputs": [],
   "source": [
    "import librosa\n",
    "import numpy as np\n",
    "import os\n",
    "import math\n",
    "from sklearn.cluster import KMeans\n",
    "import hmmlearn.hmm\n",
    "\n",
    "def get_mfcc(file_path):\n",
    "    y, sr = librosa.load(file_path) # read .wav file\n",
    "    hop_length = math.floor(sr*0.010) # 10ms hop\n",
    "    win_length = math.floor(sr*0.025) # 25ms frame\n",
    "    # mfcc is 12 x T matrix\n",
    "    mfcc = librosa.feature.mfcc(\n",
    "        y, sr, n_mfcc=12, n_fft=1024,\n",
    "        hop_length=hop_length, win_length=win_length)\n",
    "    # substract mean from mfcc --> normalize mfcc\n",
    "    mfcc = mfcc - np.mean(mfcc, axis=1).reshape((-1,1)) \n",
    "    # delta feature 1st order and 2nd order\n",
    "    delta1 = librosa.feature.delta(mfcc, order=1)\n",
    "    delta2 = librosa.feature.delta(mfcc, order=2)\n",
    "    # X is 36 x T\n",
    "    X = np.concatenate([mfcc, delta1, delta2], axis=0) # O^r\n",
    "    # return T x 36 (transpose of X)\n",
    "    return X.T # hmmlearn use T x N matrix\n"
   ]
  },
  {
   "cell_type": "code",
   "execution_count": 3,
   "metadata": {},
   "outputs": [],
   "source": [
    "all_data = {}\n",
    "all_labels = {}\n",
    "for cname in class_names:\n",
    "    file_paths = [os.path.join(\"content\", cname, i) for i in os.listdir(os.path.join('content', cname)) if i.endswith('.wav')]\n",
    "    data = [get_mfcc(file_path) for file_path in file_paths]\n",
    "    all_data[cname] = data\n",
    "    all_labels[cname] = [class_names.index(cname) for i in range(len(file_paths))]"
   ]
  },
  {
   "cell_type": "code",
   "execution_count": 4,
   "metadata": {},
   "outputs": [],
   "source": [
    "from sklearn.model_selection import train_test_split\n",
    "\n",
    "X = {'train': {}, 'test': {}}\n",
    "y = {'train': {}, 'test': {}}\n",
    "for cname in class_names:\n",
    "    x_train, x_test, _, y_test = train_test_split(\n",
    "        all_data[cname], all_labels[cname], \n",
    "        test_size = 0.33, \n",
    "        random_state=42\n",
    "    )\n",
    "    X['train'][cname] = x_train\n",
    "    X['test'][cname] = x_test\n",
    "    y['test'][cname] = y_test"
   ]
  },
  {
   "cell_type": "code",
   "execution_count": 5,
   "metadata": {},
   "outputs": [
    {
     "name": "stdout",
     "output_type": "stream",
     "text": [
      "cothe 62 31 31\n",
      "khong 40 20 20\n",
      "nguoi 50 26 26\n",
      "toi 43 22 22\n",
      "va 48 24 24\n"
     ]
    }
   ],
   "source": [
    "for cname in class_names:\n",
    "    print(cname,len(X['train'][cname]), len(X['test'][cname]), len(y['test'][cname]))"
   ]
  },
  {
   "cell_type": "code",
   "execution_count": 6,
   "metadata": {},
   "outputs": [
    {
     "name": "stdout",
     "output_type": "stream",
     "text": [
      "[[0.5 0.5 0.  0.  0.  0.  0.  0.  0.  0.  0.  0. ]\n",
      " [0.  0.5 0.5 0.  0.  0.  0.  0.  0.  0.  0.  0. ]\n",
      " [0.  0.  0.5 0.5 0.  0.  0.  0.  0.  0.  0.  0. ]\n",
      " [0.  0.  0.  0.5 0.5 0.  0.  0.  0.  0.  0.  0. ]\n",
      " [0.  0.  0.  0.  0.5 0.5 0.  0.  0.  0.  0.  0. ]\n",
      " [0.  0.  0.  0.  0.  0.5 0.5 0.  0.  0.  0.  0. ]\n",
      " [0.  0.  0.  0.  0.  0.  0.5 0.5 0.  0.  0.  0. ]\n",
      " [0.  0.  0.  0.  0.  0.  0.  0.5 0.5 0.  0.  0. ]\n",
      " [0.  0.  0.  0.  0.  0.  0.  0.  0.5 0.5 0.  0. ]\n",
      " [0.  0.  0.  0.  0.  0.  0.  0.  0.  0.5 0.5 0. ]\n",
      " [0.  0.  0.  0.  0.  0.  0.  0.  0.  0.  0.5 0.5]\n",
      " [0.  0.  0.  0.  0.  0.  0.  0.  0.  0.  0.  1. ]]\n"
     ]
    },
    {
     "name": "stderr",
     "output_type": "stream",
     "text": [
      "         1     -220034.4359             +nan\n",
      "         2     -209808.7649      +10225.6711\n",
      "         3     -208366.3818       +1442.3831\n",
      "         4     -207824.7754        +541.6064\n",
      "         5     -207479.6624        +345.1131\n",
      "         6     -207262.7332        +216.9292\n",
      "         7     -207116.5672        +146.1660\n",
      "         8     -207054.1379         +62.4293\n",
      "         9     -207018.9461         +35.1919\n",
      "        10     -206998.3370         +20.6091\n",
      "        11     -206973.3910         +24.9460\n",
      "        12     -206906.5560         +66.8350\n",
      "        13     -206849.4925         +57.0634\n",
      "        14     -206799.5544         +49.9381\n",
      "        15     -206771.3315         +28.2229\n",
      "        16     -206755.6077         +15.7239\n",
      "        17     -206747.5960          +8.0117\n",
      "        18     -206740.8678          +6.7282\n",
      "        19     -206733.9771          +6.8907\n",
      "        20     -206728.5621          +5.4150\n",
      "        21     -206726.5309          +2.0312\n",
      "        22     -206725.5712          +0.9597\n",
      "        23     -206724.9233          +0.6479\n",
      "        24     -206724.2580          +0.6653\n",
      "        25     -206723.3403          +0.9177\n",
      "        26     -206721.6986          +1.6418\n",
      "        27     -206720.0594          +1.6391\n",
      "        28     -206719.2139          +0.8455\n",
      "        29     -206718.1250          +1.0888\n",
      "        30     -206716.4024          +1.7226\n",
      "        31     -206714.5843          +1.8181\n",
      "        32     -206713.1934          +1.3909\n",
      "        33     -206712.3938          +0.7996\n",
      "        34     -206711.6622          +0.7316\n",
      "        35     -206710.8937          +0.7684\n",
      "        36     -206710.2977          +0.5960\n",
      "        37     -206709.6538          +0.6439\n",
      "        38     -206708.4999          +1.1539\n",
      "        39     -206707.4722          +1.0277\n",
      "        40     -206706.9873          +0.4849\n",
      "        41     -206706.6675          +0.3198\n",
      "        42     -206706.3858          +0.2817\n",
      "        43     -206706.0902          +0.2956\n",
      "        44     -206705.7690          +0.3212\n",
      "        45     -206705.4382          +0.3308\n",
      "        46     -206705.1185          +0.3197\n",
      "        47     -206704.8160          +0.3025\n",
      "        48     -206704.5236          +0.2924\n",
      "        49     -206704.2264          +0.2972\n",
      "        50     -206703.9012          +0.3252\n",
      "        51     -206703.5104          +0.3909\n",
      "        52     -206702.9989          +0.5115\n",
      "        53     -206702.3372          +0.6617\n",
      "        54     -206701.6341          +0.7031\n",
      "        55     -206701.0957          +0.5384\n",
      "        56     -206700.7671          +0.3285\n",
      "        57     -206700.5678          +0.1993\n",
      "        58     -206700.4317          +0.1361\n",
      "        59     -206700.3159          +0.1158\n",
      "        60     -206700.1725          +0.1434\n",
      "        61     -206699.9260          +0.2466\n",
      "        62     -206699.5991          +0.3269\n",
      "        63     -206699.4363          +0.1628\n",
      "        64     -206699.3979          +0.0384\n",
      "        65     -206699.3823          +0.0155\n",
      "        66     -206699.3720          +0.0104\n",
      "        67     -206699.3640          +0.0080\n",
      "         1     -223046.7600             +nan"
     ]
    },
    {
     "name": "stdout",
     "output_type": "stream",
     "text": [
      "[[0.5 0.5 0.  0.  0.  0.  0.  0.  0. ]\n",
      " [0.  0.5 0.5 0.  0.  0.  0.  0.  0. ]\n",
      " [0.  0.  0.5 0.5 0.  0.  0.  0.  0. ]\n",
      " [0.  0.  0.  0.5 0.5 0.  0.  0.  0. ]\n",
      " [0.  0.  0.  0.  0.5 0.5 0.  0.  0. ]\n",
      " [0.  0.  0.  0.  0.  0.5 0.5 0.  0. ]\n",
      " [0.  0.  0.  0.  0.  0.  0.5 0.5 0. ]\n",
      " [0.  0.  0.  0.  0.  0.  0.  0.5 0.5]\n",
      " [0.  0.  0.  0.  0.  0.  0.  0.  1. ]]\n"
     ]
    },
    {
     "name": "stderr",
     "output_type": "stream",
     "text": [
      "\n",
      "         2     -187535.8366      +35510.9235\n",
      "         3     -124510.3179      +63025.5187\n",
      "         4      -52829.5913      +71680.7266\n",
      "         5      -52596.3078        +233.2835\n",
      "         6      -52327.3328        +268.9750\n",
      "         7      -52214.4720        +112.8609\n",
      "         8      -52167.1035         +47.3684\n",
      "         9      -52160.3669          +6.7366\n",
      "        10      -52156.3322          +4.0347\n",
      "        11      -52146.7284          +9.6038\n",
      "        12      -52144.7482          +1.9802\n",
      "        13      -52144.5379          +0.2103\n",
      "        14      -52144.1018          +0.4361\n",
      "        15      -52142.6535          +1.4483\n",
      "        16      -52141.7044          +0.9492\n",
      "        17      -52141.6477          +0.0567\n",
      "        18      -52141.6410          +0.0067\n"
     ]
    },
    {
     "name": "stdout",
     "output_type": "stream",
     "text": [
      "[[0.5 0.5 0.  0.  0.  0.  0.  0.  0. ]\n",
      " [0.  0.5 0.5 0.  0.  0.  0.  0.  0. ]\n",
      " [0.  0.  0.5 0.5 0.  0.  0.  0.  0. ]\n",
      " [0.  0.  0.  0.5 0.5 0.  0.  0.  0. ]\n",
      " [0.  0.  0.  0.  0.5 0.5 0.  0.  0. ]\n",
      " [0.  0.  0.  0.  0.  0.5 0.5 0.  0. ]\n",
      " [0.  0.  0.  0.  0.  0.  0.5 0.5 0. ]\n",
      " [0.  0.  0.  0.  0.  0.  0.  0.5 0.5]\n",
      " [0.  0.  0.  0.  0.  0.  0.  0.  1. ]]\n"
     ]
    },
    {
     "name": "stderr",
     "output_type": "stream",
     "text": [
      "         1     -129164.7315             +nan\n",
      "         2     -122314.6084       +6850.1231\n",
      "         3     -121913.6436        +400.9647\n",
      "         4     -121789.6269        +124.0167\n",
      "         5     -121744.5823         +45.0446\n",
      "         6     -121699.9330         +44.6493\n",
      "         7     -121667.1387         +32.7943\n",
      "         8     -121634.7824         +32.3563\n",
      "         9     -121616.5382         +18.2442\n",
      "        10     -121610.2878          +6.2504\n",
      "        11     -121604.9867          +5.3011\n",
      "        12     -121599.4591          +5.5276\n",
      "        13     -121596.1221          +3.3370\n",
      "        14     -121595.5406          +0.5815\n",
      "        15     -121594.9543          +0.5864\n",
      "        16     -121594.1569          +0.7974\n",
      "        17     -121593.6651          +0.4918\n",
      "        18     -121593.5279          +0.1372\n",
      "        19     -121593.4587          +0.0692\n",
      "        20     -121593.4054          +0.0533\n",
      "        21     -121593.3608          +0.0446\n",
      "        22     -121593.3222          +0.0386\n",
      "        23     -121593.2881          +0.0341\n",
      "        24     -121593.2577          +0.0304\n",
      "        25     -121593.2302          +0.0275\n",
      "        26     -121593.2053          +0.0249\n",
      "        27     -121593.1825          +0.0228\n",
      "        28     -121593.1616          +0.0209\n",
      "        29     -121593.1425          +0.0192\n",
      "        30     -121593.1249          +0.0176\n",
      "        31     -121593.1089          +0.0160\n",
      "        32     -121593.0945          +0.0144\n",
      "        33     -121593.0816          +0.0129\n",
      "        34     -121593.0704          +0.0113\n",
      "        35     -121593.0606          +0.0097\n"
     ]
    },
    {
     "name": "stdout",
     "output_type": "stream",
     "text": [
      "[[0.5 0.5 0.  0.  0.  0.  0.  0.  0. ]\n",
      " [0.  0.5 0.5 0.  0.  0.  0.  0.  0. ]\n",
      " [0.  0.  0.5 0.5 0.  0.  0.  0.  0. ]\n",
      " [0.  0.  0.  0.5 0.5 0.  0.  0.  0. ]\n",
      " [0.  0.  0.  0.  0.5 0.5 0.  0.  0. ]\n",
      " [0.  0.  0.  0.  0.  0.5 0.5 0.  0. ]\n",
      " [0.  0.  0.  0.  0.  0.  0.5 0.5 0. ]\n",
      " [0.  0.  0.  0.  0.  0.  0.  0.5 0.5]\n",
      " [0.  0.  0.  0.  0.  0.  0.  0.  1. ]]\n"
     ]
    },
    {
     "name": "stderr",
     "output_type": "stream",
     "text": [
      "         1     -112166.6267             +nan\n",
      "         2     -105725.9501       +6440.6766\n",
      "         3     -104774.2684        +951.6817\n",
      "         4     -104632.7834        +141.4850\n",
      "         5     -104658.4511         -25.6677\n"
     ]
    },
    {
     "name": "stdout",
     "output_type": "stream",
     "text": [
      "[[0.5 0.5 0.  0.  0.  0. ]\n",
      " [0.  0.5 0.5 0.  0.  0. ]\n",
      " [0.  0.  0.5 0.5 0.  0. ]\n",
      " [0.  0.  0.  0.5 0.5 0. ]\n",
      " [0.  0.  0.  0.  0.5 0.5]\n",
      " [0.  0.  0.  0.  0.  1. ]]\n"
     ]
    },
    {
     "name": "stderr",
     "output_type": "stream",
     "text": [
      "         1     -115615.6869             +nan\n",
      "         2     -111084.7404       +4530.9466\n",
      "         3     -109773.5095       +1311.2308\n",
      "         4     -109278.6511        +494.8584\n",
      "         5     -109067.2849        +211.3663\n",
      "         6     -108974.1498         +93.1351\n",
      "         7     -108911.4847         +62.6651\n",
      "         8     -108861.0541         +50.4306\n",
      "         9     -108780.7458         +80.3083\n",
      "        10     -108745.8405         +34.9053\n",
      "        11     -108741.0728          +4.7677\n",
      "        12     -108736.9570          +4.1158\n",
      "        13     -108687.5459         +49.4111\n",
      "        14     -108683.6157          +3.9302\n",
      "        15     -108676.8121          +6.8036\n",
      "        16     -108674.4786          +2.3335\n",
      "        17     -108674.0528          +0.4258\n",
      "        18     -108673.9529          +0.0999\n",
      "        19     -108673.8999          +0.0530\n",
      "        20     -108673.8644          +0.0355\n",
      "        21     -108673.8387          +0.0257\n",
      "        22     -108673.8199          +0.0188\n",
      "        23     -108673.8063          +0.0135\n",
      "        24     -108673.7969          +0.0094\n"
     ]
    }
   ],
   "source": [
    "import hmmlearn.hmm as hmm\n",
    "\n",
    "model = {}\n",
    "for idx, cname in enumerate(class_names):\n",
    "    start_prob = np.full(states[idx], 0.0)\n",
    "    start_prob[0] = 1.0\n",
    "    trans_matrix = np.full((states[idx], states[idx]), 0.0)\n",
    "    p = 0.5\n",
    "    np.fill_diagonal(trans_matrix, p)\n",
    "    np.fill_diagonal(trans_matrix[0:, 1:], 1 - p)\n",
    "    trans_matrix[-1, -1] = 1.0\n",
    "    \n",
    "    #trans matrix\n",
    "    print(trans_matrix) \n",
    "\n",
    "    model[cname] = hmm.GaussianHMM(\n",
    "        n_components=states[idx], \n",
    "        verbose=True, \n",
    "        n_iter=300, \n",
    "        startprob_prior=start_prob, \n",
    "        transmat_prior=trans_matrix,\n",
    "        params='stmc',\n",
    "        init_params='mc',\n",
    "        random_state=42\n",
    "    )\n",
    "\n",
    "    model[cname].fit(X=np.vstack(X['train'][cname]), lengths=[x.shape[0] for x in X['train'][cname]])"
   ]
  },
  {
   "cell_type": "code",
   "execution_count": 7,
   "metadata": {},
   "outputs": [],
   "source": [
    "import pickle\n",
    "\n",
    "# save model\n",
    "for cname in class_names:\n",
    "    name = f'model_{cname}.pkl'\n",
    "    with open(name, 'wb') as file: \n",
    "        pickle.dump(model[cname], file)"
   ]
  },
  {
   "cell_type": "code",
   "execution_count": 8,
   "metadata": {},
   "outputs": [],
   "source": [
    "import pickle, os\n",
    "import numpy as np\n",
    "\n",
    "from sklearn.metrics import classification_report"
   ]
  },
  {
   "cell_type": "code",
   "execution_count": 9,
   "metadata": {},
   "outputs": [
    {
     "name": "stdout",
     "output_type": "stream",
     "text": [
      "[0, 0, 0, 0, 0, 0, 0, 0, 0, 0, 0, 0, 0, 0, 0, 0, 0, 0, 0, 0, 0, 0, 0, 0, 0, 0, 0, 0, 0, 0, 0, 1, 1, 1, 1, 1, 1, 1, 1, 1, 1, 1, 1, 1, 1, 1, 1, 1, 1, 1, 1, 2, 2, 2, 2, 2, 2, 2, 2, 2, 2, 2, 2, 2, 2, 2, 2, 2, 2, 2, 2, 2, 2, 2, 2, 2, 2, 3, 3, 3, 3, 3, 3, 3, 3, 3, 3, 3, 3, 3, 3, 3, 3, 3, 3, 3, 3, 3, 3, 4, 4, 4, 4, 4, 4, 4, 4, 4, 4, 4, 4, 4, 4, 4, 4, 4, 4, 4, 4, 4, 4, 4, 4]\n",
      "[0, 0, 0, 0, 0, 0, 0, 0, 0, 0, 0, 0, 1, 0, 0, 0, 0, 0, 0, 0, 0, 0, 0, 0, 0, 0, 0, 0, 0, 0, 0, 0, 1, 1, 1, 1, 1, 1, 1, 1, 1, 1, 1, 1, 1, 1, 1, 1, 1, 1, 1, 2, 2, 2, 2, 2, 2, 2, 2, 2, 2, 2, 2, 2, 2, 2, 2, 2, 2, 2, 2, 2, 2, 2, 2, 2, 2, 3, 3, 3, 3, 3, 3, 3, 3, 3, 3, 3, 3, 3, 3, 3, 3, 3, 3, 3, 3, 3, 3, 4, 4, 4, 4, 4, 4, 4, 4, 4, 4, 4, 4, 2, 4, 4, 4, 4, 4, 4, 4, 4, 4, 4, 4]\n"
     ]
    }
   ],
   "source": [
    "y_true = []\n",
    "y_pred = []\n",
    "for cname in class_names:\n",
    "    for mfcc, target in zip(X['test'][cname], y['test'][cname]):\n",
    "        scores = [model[cname].score(mfcc) for cname in class_names]\n",
    "        pred = np.argmax(scores)\n",
    "        y_pred.append(pred)\n",
    "        y_true.append(target)\n",
    "print(y_true)\n",
    "print(y_pred)"
   ]
  },
  {
   "cell_type": "code",
   "execution_count": 10,
   "metadata": {},
   "outputs": [
    {
     "name": "stdout",
     "output_type": "stream",
     "text": [
      "              precision    recall  f1-score   support\n",
      "\n",
      "       cothe       0.97      0.97      0.97        31\n",
      "       khong       0.95      0.95      0.95        20\n",
      "       nguoi       0.96      1.00      0.98        26\n",
      "         toi       1.00      1.00      1.00        22\n",
      "          va       1.00      0.96      0.98        24\n",
      "\n",
      "    accuracy                           0.98       123\n",
      "   macro avg       0.98      0.98      0.98       123\n",
      "weighted avg       0.98      0.98      0.98       123\n",
      "\n"
     ]
    }
   ],
   "source": [
    "report = classification_report(y_true, y_pred, target_names=class_names)\n",
    "print(report)"
   ]
  },
  {
   "cell_type": "code",
   "execution_count": 11,
   "metadata": {},
   "outputs": [],
   "source": [
    "model = {}\n",
    "for key in class_names:\n",
    "    name = f\"model_{key}.pkl\"\n",
    "    with open(name, 'rb') as file:\n",
    "        model[key] = pickle.load(file)"
   ]
  },
  {
   "cell_type": "code",
   "execution_count": 12,
   "metadata": {},
   "outputs": [
    {
     "name": "stdout",
     "output_type": "stream",
     "text": [
      "{'cothe': GaussianHMM(init_params='mc', n_components=12, n_iter=300, random_state=42,\n",
      "            startprob_prior=array([1., 0., 0., 0., 0., 0., 0., 0., 0., 0., 0., 0.]),\n",
      "            transmat_prior=array([[0.5, 0.5, 0. , 0. , 0. , 0. , 0. , 0. , 0. , 0. , 0. , 0. ],\n",
      "       [0. , 0.5, 0.5, 0. , 0. , 0. , 0. , 0. , 0. , 0. , 0. , 0. ],\n",
      "       [0. , 0. , 0.5, 0.5, 0. , 0. , 0. , 0. , 0. , 0. , 0. , 0. ],\n",
      "       [0. , 0. , 0. , 0.5, 0.5, 0. , 0. , 0. , 0. , 0. , 0. , 0. ],\n",
      "       [0. , 0. , 0. , 0. , 0.5, 0.5, 0. , 0. , 0. , 0. , 0. , 0. ],\n",
      "       [0. , 0. , 0. , 0. , 0. , 0.5, 0.5, 0. , 0. , 0. , 0. , 0. ],\n",
      "       [0. , 0. , 0. , 0. , 0. , 0. , 0.5, 0.5, 0. , 0. , 0. , 0. ],\n",
      "       [0. , 0. , 0. , 0. , 0. , 0. , 0. , 0.5, 0.5, 0. , 0. , 0. ],\n",
      "       [0. , 0. , 0. , 0. , 0. , 0. , 0. , 0. , 0.5, 0.5, 0. , 0. ],\n",
      "       [0. , 0. , 0. , 0. , 0. , 0. , 0. , 0. , 0. , 0.5, 0.5, 0. ],\n",
      "       [0. , 0. , 0. , 0. , 0. , 0. , 0. , 0. , 0. , 0. , 0.5, 0.5],\n",
      "       [0. , 0. , 0. , 0. , 0. , 0. , 0. , 0. , 0. , 0. , 0. , 1. ]]),\n",
      "            verbose=True), 'khong': GaussianHMM(init_params='mc', n_components=9, n_iter=300, random_state=42,\n",
      "            startprob_prior=array([1., 0., 0., 0., 0., 0., 0., 0., 0.]),\n",
      "            transmat_prior=array([[0.5, 0.5, 0. , 0. , 0. , 0. , 0. , 0. , 0. ],\n",
      "       [0. , 0.5, 0.5, 0. , 0. , 0. , 0. , 0. , 0. ],\n",
      "       [0. , 0. , 0.5, 0.5, 0. , 0. , 0. , 0. , 0. ],\n",
      "       [0. , 0. , 0. , 0.5, 0.5, 0. , 0. , 0. , 0. ],\n",
      "       [0. , 0. , 0. , 0. , 0.5, 0.5, 0. , 0. , 0. ],\n",
      "       [0. , 0. , 0. , 0. , 0. , 0.5, 0.5, 0. , 0. ],\n",
      "       [0. , 0. , 0. , 0. , 0. , 0. , 0.5, 0.5, 0. ],\n",
      "       [0. , 0. , 0. , 0. , 0. , 0. , 0. , 0.5, 0.5],\n",
      "       [0. , 0. , 0. , 0. , 0. , 0. , 0. , 0. , 1. ]]),\n",
      "            verbose=True), 'nguoi': GaussianHMM(init_params='mc', n_components=9, n_iter=300, random_state=42,\n",
      "            startprob_prior=array([1., 0., 0., 0., 0., 0., 0., 0., 0.]),\n",
      "            transmat_prior=array([[0.5, 0.5, 0. , 0. , 0. , 0. , 0. , 0. , 0. ],\n",
      "       [0. , 0.5, 0.5, 0. , 0. , 0. , 0. , 0. , 0. ],\n",
      "       [0. , 0. , 0.5, 0.5, 0. , 0. , 0. , 0. , 0. ],\n",
      "       [0. , 0. , 0. , 0.5, 0.5, 0. , 0. , 0. , 0. ],\n",
      "       [0. , 0. , 0. , 0. , 0.5, 0.5, 0. , 0. , 0. ],\n",
      "       [0. , 0. , 0. , 0. , 0. , 0.5, 0.5, 0. , 0. ],\n",
      "       [0. , 0. , 0. , 0. , 0. , 0. , 0.5, 0.5, 0. ],\n",
      "       [0. , 0. , 0. , 0. , 0. , 0. , 0. , 0.5, 0.5],\n",
      "       [0. , 0. , 0. , 0. , 0. , 0. , 0. , 0. , 1. ]]),\n",
      "            verbose=True), 'toi': GaussianHMM(init_params='mc', n_components=9, n_iter=300, random_state=42,\n",
      "            startprob_prior=array([1., 0., 0., 0., 0., 0., 0., 0., 0.]),\n",
      "            transmat_prior=array([[0.5, 0.5, 0. , 0. , 0. , 0. , 0. , 0. , 0. ],\n",
      "       [0. , 0.5, 0.5, 0. , 0. , 0. , 0. , 0. , 0. ],\n",
      "       [0. , 0. , 0.5, 0.5, 0. , 0. , 0. , 0. , 0. ],\n",
      "       [0. , 0. , 0. , 0.5, 0.5, 0. , 0. , 0. , 0. ],\n",
      "       [0. , 0. , 0. , 0. , 0.5, 0.5, 0. , 0. , 0. ],\n",
      "       [0. , 0. , 0. , 0. , 0. , 0.5, 0.5, 0. , 0. ],\n",
      "       [0. , 0. , 0. , 0. , 0. , 0. , 0.5, 0.5, 0. ],\n",
      "       [0. , 0. , 0. , 0. , 0. , 0. , 0. , 0.5, 0.5],\n",
      "       [0. , 0. , 0. , 0. , 0. , 0. , 0. , 0. , 1. ]]),\n",
      "            verbose=True), 'va': GaussianHMM(init_params='mc', n_components=6, n_iter=300, random_state=42,\n",
      "            startprob_prior=array([1., 0., 0., 0., 0., 0.]),\n",
      "            transmat_prior=array([[0.5, 0.5, 0. , 0. , 0. , 0. ],\n",
      "       [0. , 0.5, 0.5, 0. , 0. , 0. ],\n",
      "       [0. , 0. , 0.5, 0.5, 0. , 0. ],\n",
      "       [0. , 0. , 0. , 0.5, 0.5, 0. ],\n",
      "       [0. , 0. , 0. , 0. , 0.5, 0.5],\n",
      "       [0. , 0. , 0. , 0. , 0. , 1. ]]),\n",
      "            verbose=True)}\n"
     ]
    }
   ],
   "source": [
    "print(model)"
   ]
  },
  {
   "cell_type": "code",
   "execution_count": 13,
   "metadata": {},
   "outputs": [
    {
     "name": "stderr",
     "output_type": "stream",
     "text": [
      "C:\\Users\\Admin\\.conda\\envs\\voice\\lib\\site-packages\\pydub\\utils.py:170: RuntimeWarning: Couldn't find ffmpeg or avconv - defaulting to ffmpeg, but may not work\n",
      "  warn(\"Couldn't find ffmpeg or avconv - defaulting to ffmpeg, but may not work\", RuntimeWarning)\n"
     ]
    }
   ],
   "source": [
    "from tkinter import messagebox\n",
    "import winsound\n",
    "\n",
    "from pydub import AudioSegment\n",
    "\n",
    "import ffmpeg\n",
    "\n",
    "#Thay đổi threshold dựa vào tạp âm, càng ồn thì threshold càng lớn\n",
    "def detect_leading_silence(sound, silence_threshold=-42.0, chunk_size=10):\n",
    "    '''\n",
    "    sound is a pydub.AudioSegment\n",
    "    silence_threshold in dB\n",
    "    chunk_size in ms\n",
    "\n",
    "    iterate over chunks until you find the first one with sound\n",
    "    '''\n",
    "    trim_ms = 0 # ms\n",
    "\n",
    "    assert chunk_size > 0 # to avoid infinite loop\n",
    "    while sound[trim_ms:trim_ms+chunk_size].dBFS < silence_threshold and trim_ms < len(sound):\n",
    "        trim_ms += chunk_size\n",
    "\n",
    "    return trim_ms\n",
    "\n",
    "def record():\n",
    "    import pyaudio\n",
    "    import wave\n",
    "    from base64 import b64decode\n",
    "\n",
    "    CHUNK = 1024\n",
    "    FORMAT = pyaudio.paInt16\n",
    "    CHANNELS = 1\n",
    "    RATE = 22050\n",
    "    RECORD_SECONDS = 2\n",
    "    WAVE_OUTPUT_FILENAME = \"record.wav\"\n",
    "\n",
    "    p = pyaudio.PyAudio()\n",
    "\n",
    "    stream = p.open(format=FORMAT,\n",
    "                    channels=CHANNELS,\n",
    "                    rate=RATE,\n",
    "                    input=True,\n",
    "                    frames_per_buffer=CHUNK)\n",
    "\n",
    "    frames = []\n",
    "\n",
    "    for i in range(0, int(RATE / CHUNK * RECORD_SECONDS)):\n",
    "        data = stream.read(CHUNK)\n",
    "        frames.append(data)\n",
    "\n",
    "    stream.stop_stream()\n",
    "    stream.close()\n",
    "    p.terminate()\n",
    "\n",
    "    wf = wave.open(WAVE_OUTPUT_FILENAME, 'wb')\n",
    "    wf.setnchannels(CHANNELS)\n",
    "    wf.setsampwidth(p.get_sample_size(FORMAT))\n",
    "    wf.setframerate(RATE)\n",
    "    wf.writeframes(b''.join(frames))\n",
    "    wf.close()\n",
    "\n",
    "def play():    \n",
    "    filename = 'record.wav'\n",
    "    winsound.PlaySound(filename, winsound.SND_FILENAME)\n",
    "    \n",
    "def playtrimmed():    \n",
    "    filename = 'trimmed.wav'\n",
    "    winsound.PlaySound(filename, winsound.SND_FILENAME)\n",
    "\n",
    "def predict():\n",
    "    #Trim silence\n",
    "    sound = AudioSegment.from_file(\"record.wav\", format=\"wav\")\n",
    "\n",
    "    start_trim = detect_leading_silence(sound)\n",
    "    end_trim = detect_leading_silence(sound.reverse())\n",
    "\n",
    "    duration = len(sound)    \n",
    "    \n",
    "    trimmed_sound = sound[start_trim:duration-end_trim]    \n",
    "    trimmed_sound.export(\"trimmed.wav\", format=\"wav\")\n",
    "    \n",
    "    #Predict\n",
    "    record_mfcc = get_mfcc(\"trimmed.wav\")\n",
    "    scores = [model[cname].score(record_mfcc) for cname in class_names]\n",
    "    pred = np.argmax(scores)\n",
    "    messagebox.showinfo(\"result\", class_names[pred])\n"
   ]
  },
  {
   "cell_type": "code",
   "execution_count": 16,
   "metadata": {},
   "outputs": [],
   "source": [
    "import tkinter as tk\n",
    "\n",
    "window = tk.Tk()\n",
    "window.geometry(\"300x200\")\n",
    "window.title(\"Speech recognition\")\n",
    "\n",
    "frame0 = tk.Frame(master=window)\n",
    "frame0.pack()\n",
    "\n",
    "frame1 = tk.Frame(master=window)\n",
    "frame1.pack()\n",
    "\n",
    "frame2 = tk.Frame(master=window)\n",
    "frame2.pack()\n",
    "\n",
    "label = tk.Label(master=frame0, text=\"Speech recognition\")\n",
    "label.pack(padx=5, pady=10)\n",
    "\n",
    "btn_record = tk.Button(master=frame1, width=13, height=2, text=\"record\", command=record)\n",
    "btn_record.pack(side=tk.LEFT, padx=5, pady=5)\n",
    "\n",
    "btn_playback = tk.Button(master=frame1, width=13, height=2, text=\"playback\", command=play)\n",
    "btn_playback.pack(side=tk.LEFT, padx=5, pady=5)\n",
    "\n",
    "btn_predict = tk.Button(master=frame2, width=13, height=2, text=\"trim & predict\", command=predict)\n",
    "btn_predict.pack(side=tk.LEFT, padx=5, pady=5)\n",
    "\n",
    "btn_playback = tk.Button(master=frame2, width=13, height=2, text=\"playbacktrimmed\", command=playtrimmed)\n",
    "btn_playback.pack(side=tk.LEFT, padx=5, pady=5)\n",
    "\n",
    "\n",
    "\n",
    "window.mainloop()"
   ]
  },
  {
   "cell_type": "code",
   "execution_count": null,
   "metadata": {},
   "outputs": [],
   "source": []
  }
 ],
 "metadata": {
  "kernelspec": {
   "display_name": "Python 3",
   "language": "python",
   "name": "python3"
  },
  "language_info": {
   "codemirror_mode": {
    "name": "ipython",
    "version": 3
   },
   "file_extension": ".py",
   "mimetype": "text/x-python",
   "name": "python",
   "nbconvert_exporter": "python",
   "pygments_lexer": "ipython3",
   "version": "3.7.7"
  }
 },
 "nbformat": 4,
 "nbformat_minor": 4
}
