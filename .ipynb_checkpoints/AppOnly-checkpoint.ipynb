{
 "cells": [
  {
   "cell_type": "code",
   "execution_count": 7,
   "metadata": {},
   "outputs": [
    {
     "name": "stdout",
     "output_type": "stream",
     "text": [
      "502\n"
     ]
    }
   ],
   "source": [
    "import os\n",
    "class_names = ['cothe', 'khong', 'nguoi', 'toi', 'va']\n",
    "states = [12, 9, 9, 9, 6]\n",
    "\n",
    "length = 0\n",
    "for d in class_names:\n",
    "    length += len(os.listdir(\"content/\" + d))\n",
    "print(length)"
   ]
  },
  {
   "cell_type": "code",
   "execution_count": 8,
   "metadata": {},
   "outputs": [],
   "source": [
    "import librosa\n",
    "import numpy as np\n",
    "import os\n",
    "import math\n",
    "from sklearn.cluster import KMeans\n",
    "import hmmlearn.hmm\n",
    "\n",
    "def get_mfcc(file_path):\n",
    "    y, sr = librosa.load(file_path) # read .wav file\n",
    "    hop_length = math.floor(sr*0.010) # 10ms hop\n",
    "    win_length = math.floor(sr*0.025) # 25ms frame\n",
    "    # mfcc is 12 x T matrix\n",
    "    mfcc = librosa.feature.mfcc(\n",
    "        y, sr, n_mfcc=12, n_fft=1024,\n",
    "        hop_length=hop_length, win_length=win_length)\n",
    "    # substract mean from mfcc --> normalize mfcc\n",
    "    mfcc = mfcc - np.mean(mfcc, axis=1).reshape((-1,1)) \n",
    "    # delta feature 1st order and 2nd order\n",
    "    delta1 = librosa.feature.delta(mfcc, order=1)\n",
    "    delta2 = librosa.feature.delta(mfcc, order=2)\n",
    "    # X is 36 x T\n",
    "    X = np.concatenate([mfcc, delta1, delta2], axis=0) # O^r\n",
    "    # return T x 36 (transpose of X)\n",
    "    return X.T # hmmlearn use T x N matrix\n"
   ]
  },
  {
   "cell_type": "code",
   "execution_count": 9,
   "metadata": {},
   "outputs": [],
   "source": [
    "all_data = {}\n",
    "all_labels = {}\n",
    "for cname in class_names:\n",
    "    file_paths = [os.path.join(\"content\", cname, i) for i in os.listdir(os.path.join('content', cname)) if i.endswith('.wav')]\n",
    "    data = [get_mfcc(file_path) for file_path in file_paths]\n",
    "    all_data[cname] = data\n",
    "    all_labels[cname] = [class_names.index(cname) for i in range(len(file_paths))]"
   ]
  },
  {
   "cell_type": "code",
   "execution_count": 10,
   "metadata": {},
   "outputs": [],
   "source": [
    "from sklearn.model_selection import train_test_split\n",
    "\n",
    "X = {'train': {}, 'test': {}}\n",
    "y = {'train': {}, 'test': {}}\n",
    "for cname in class_names:\n",
    "    x_train, x_test, _, y_test = train_test_split(\n",
    "        all_data[cname], all_labels[cname], \n",
    "        test_size = 0.33, \n",
    "        random_state=42\n",
    "    )\n",
    "    X['train'][cname] = x_train\n",
    "    X['test'][cname] = x_test\n",
    "    y['test'][cname] = y_test"
   ]
  },
  {
   "cell_type": "code",
   "execution_count": 11,
   "metadata": {},
   "outputs": [
    {
     "name": "stdout",
     "output_type": "stream",
     "text": [
      "cothe 67 33 33\n",
      "khong 67 33 33\n",
      "nguoi 67 33 33\n",
      "toi 67 33 33\n",
      "va 67 33 33\n"
     ]
    }
   ],
   "source": [
    "for cname in class_names:\n",
    "    print(cname,len(X['train'][cname]), len(X['test'][cname]), len(y['test'][cname]))"
   ]
  },
  {
   "cell_type": "code",
   "execution_count": 12,
   "metadata": {},
   "outputs": [
    {
     "name": "stdout",
     "output_type": "stream",
     "text": [
      "[[0.5 0.5 0.  0.  0.  0.  0.  0.  0.  0.  0.  0. ]\n",
      " [0.  0.5 0.5 0.  0.  0.  0.  0.  0.  0.  0.  0. ]\n",
      " [0.  0.  0.5 0.5 0.  0.  0.  0.  0.  0.  0.  0. ]\n",
      " [0.  0.  0.  0.5 0.5 0.  0.  0.  0.  0.  0.  0. ]\n",
      " [0.  0.  0.  0.  0.5 0.5 0.  0.  0.  0.  0.  0. ]\n",
      " [0.  0.  0.  0.  0.  0.5 0.5 0.  0.  0.  0.  0. ]\n",
      " [0.  0.  0.  0.  0.  0.  0.5 0.5 0.  0.  0.  0. ]\n",
      " [0.  0.  0.  0.  0.  0.  0.  0.5 0.5 0.  0.  0. ]\n",
      " [0.  0.  0.  0.  0.  0.  0.  0.  0.5 0.5 0.  0. ]\n",
      " [0.  0.  0.  0.  0.  0.  0.  0.  0.  0.5 0.5 0. ]\n",
      " [0.  0.  0.  0.  0.  0.  0.  0.  0.  0.  0.5 0.5]\n",
      " [0.  0.  0.  0.  0.  0.  0.  0.  0.  0.  0.  1. ]]\n"
     ]
    },
    {
     "name": "stderr",
     "output_type": "stream",
     "text": [
      "         1     -236206.7593             +nan\n",
      "         2     -225730.5762      +10476.1831\n",
      "         3     -224595.5366       +1135.0396\n",
      "         4     -224222.8646        +372.6720\n",
      "         5     -223985.4150        +237.4496\n",
      "         6     -223789.8347        +195.5803\n",
      "         7     -223634.0927        +155.7419\n",
      "         8     -223522.8613        +111.2314\n",
      "         9     -223416.8431        +106.0182\n",
      "        10     -223313.2759        +103.5672\n",
      "        11     -223126.7330        +186.5429\n",
      "        12     -222824.1845        +302.5485\n",
      "        13     -222565.5229        +258.6615\n",
      "        14     -222355.3370        +210.1859\n",
      "        15     -222219.3829        +135.9542\n",
      "        16     -222067.8653        +151.5176\n",
      "        17     -221935.4529        +132.4124\n",
      "        18     -221854.4594         +80.9935\n",
      "        19     -221803.8165         +50.6429\n",
      "        20     -221772.6834         +31.1331\n",
      "        21     -221743.7898         +28.8936\n",
      "        22     -221731.4778         +12.3121\n",
      "        23     -221729.0225          +2.4552\n",
      "        24     -221729.2835          -0.2609\n"
     ]
    },
    {
     "name": "stdout",
     "output_type": "stream",
     "text": [
      "[[0.5 0.5 0.  0.  0.  0.  0.  0.  0. ]\n",
      " [0.  0.5 0.5 0.  0.  0.  0.  0.  0. ]\n",
      " [0.  0.  0.5 0.5 0.  0.  0.  0.  0. ]\n",
      " [0.  0.  0.  0.5 0.5 0.  0.  0.  0. ]\n",
      " [0.  0.  0.  0.  0.5 0.5 0.  0.  0. ]\n",
      " [0.  0.  0.  0.  0.  0.5 0.5 0.  0. ]\n",
      " [0.  0.  0.  0.  0.  0.  0.5 0.5 0. ]\n",
      " [0.  0.  0.  0.  0.  0.  0.  0.5 0.5]\n",
      " [0.  0.  0.  0.  0.  0.  0.  0.  1. ]]\n"
     ]
    },
    {
     "name": "stderr",
     "output_type": "stream",
     "text": [
      "         1     -423512.5011             +nan\n",
      "         2     -327424.9771      +96087.5240\n",
      "         3     -145456.3017     +181968.6754\n",
      "         4      -63440.4643      +82015.8375\n",
      "         5      -63166.4316        +274.0327\n",
      "         6      -63087.7807         +78.6509\n",
      "         7      -63078.0856          +9.6950\n",
      "         8      -62998.1830         +79.9027\n",
      "         9      -62931.9984         +66.1845\n",
      "        10      -62731.9636        +200.0349\n",
      "        11      -62414.1138        +317.8498\n",
      "        12      -62222.2139        +191.8999\n",
      "        13      -62186.7586         +35.4553\n",
      "        14      -62176.3125         +10.4461\n",
      "        15      -62171.7087          +4.6039\n",
      "        16      -62190.9091         -19.2005\n"
     ]
    },
    {
     "name": "stdout",
     "output_type": "stream",
     "text": [
      "[[0.5 0.5 0.  0.  0.  0.  0.  0.  0. ]\n",
      " [0.  0.5 0.5 0.  0.  0.  0.  0.  0. ]\n",
      " [0.  0.  0.5 0.5 0.  0.  0.  0.  0. ]\n",
      " [0.  0.  0.  0.5 0.5 0.  0.  0.  0. ]\n",
      " [0.  0.  0.  0.  0.5 0.5 0.  0.  0. ]\n",
      " [0.  0.  0.  0.  0.  0.5 0.5 0.  0. ]\n",
      " [0.  0.  0.  0.  0.  0.  0.5 0.5 0. ]\n",
      " [0.  0.  0.  0.  0.  0.  0.  0.5 0.5]\n",
      " [0.  0.  0.  0.  0.  0.  0.  0.  1. ]]\n"
     ]
    },
    {
     "name": "stderr",
     "output_type": "stream",
     "text": [
      "         1     -161939.4949             +nan\n",
      "         2     -153966.7282       +7972.7667\n",
      "         3     -153417.8966        +548.8316\n",
      "         4     -153250.1910        +167.7055\n",
      "         5     -153238.3402         +11.8509\n",
      "         6     -153128.7955        +109.5447\n",
      "         7     -153051.9377         +76.8578\n",
      "         8     -152968.3780         +83.5597\n",
      "         9     -152903.6441         +64.7340\n",
      "        10     -152870.6810         +32.9631\n",
      "        11     -152852.3755         +18.3055\n",
      "        12     -152836.1746         +16.2009\n",
      "        13     -152810.3262         +25.8484\n",
      "        14     -152798.2179         +12.1084\n",
      "        15     -152786.0615         +12.1563\n",
      "        16     -152772.8116         +13.2500\n",
      "        17     -152758.5736         +14.2380\n",
      "        18     -152743.6948         +14.8788\n",
      "        19     -152733.0769         +10.6178\n",
      "        20     -152724.4345          +8.6425\n",
      "        21     -152716.2112          +8.2233\n",
      "        22     -152701.9163         +14.2949\n",
      "        23     -152693.7044          +8.2119\n",
      "        24     -152687.8273          +5.8771\n",
      "        25     -152683.9584          +3.8689\n",
      "        26     -152681.7786          +2.1798\n",
      "        27     -152680.4279          +1.3507\n",
      "        28     -152679.5471          +0.8808\n",
      "        29     -152678.9808          +0.5662\n",
      "        30     -152678.6097          +0.3712\n",
      "        31     -152678.3759          +0.2338\n",
      "        32     -152678.2364          +0.1395\n",
      "        33     -152678.1539          +0.0824\n",
      "        34     -152678.1040          +0.0499\n",
      "        35     -152678.0726          +0.0314\n",
      "        36     -152678.0518          +0.0208\n",
      "        37     -152678.0374          +0.0144\n",
      "        38     -152678.0267          +0.0107\n",
      "        39     -152678.0181          +0.0086\n"
     ]
    },
    {
     "name": "stdout",
     "output_type": "stream",
     "text": [
      "[[0.5 0.5 0.  0.  0.  0.  0.  0.  0. ]\n",
      " [0.  0.5 0.5 0.  0.  0.  0.  0.  0. ]\n",
      " [0.  0.  0.5 0.5 0.  0.  0.  0.  0. ]\n",
      " [0.  0.  0.  0.5 0.5 0.  0.  0.  0. ]\n",
      " [0.  0.  0.  0.  0.5 0.5 0.  0.  0. ]\n",
      " [0.  0.  0.  0.  0.  0.5 0.5 0.  0. ]\n",
      " [0.  0.  0.  0.  0.  0.  0.5 0.5 0. ]\n",
      " [0.  0.  0.  0.  0.  0.  0.  0.5 0.5]\n",
      " [0.  0.  0.  0.  0.  0.  0.  0.  1. ]]\n"
     ]
    },
    {
     "name": "stderr",
     "output_type": "stream",
     "text": [
      "         1     -148978.6442             +nan\n",
      "         2     -141586.7323       +7391.9119\n",
      "         3     -140344.9342       +1241.7981\n",
      "         4     -139970.8155        +374.1187\n",
      "         5     -139790.6343        +180.1812\n",
      "         6     -139688.0413        +102.5930\n",
      "         7     -139604.0981         +83.9432\n",
      "         8     -139518.4337         +85.6644\n",
      "         9     -139475.3615         +43.0722\n",
      "        10     -139445.8301         +29.5314\n",
      "        11     -139427.0741         +18.7560\n",
      "        12     -139415.5296         +11.5445\n",
      "        13     -139400.1029         +15.4268\n",
      "        14     -139381.7746         +18.3282\n",
      "        15     -139362.3138         +19.4608\n",
      "        16     -139341.2046         +21.1092\n",
      "        17     -139328.8394         +12.3652\n",
      "        18     -139320.5686          +8.2708\n",
      "        19     -139315.2832          +5.2854\n",
      "        20     -139311.8707          +3.4125\n",
      "        21     -139308.7083          +3.1624\n",
      "        22     -139306.0030          +2.7053\n",
      "        23     -139303.9547          +2.0484\n",
      "        24     -139302.0430          +1.9117\n",
      "        25     -139300.8862          +1.1567\n",
      "        26     -139298.1322          +2.7540\n",
      "        27     -139295.6420          +2.4902\n",
      "        28     -139295.1746          +0.4674\n",
      "        29     -139294.4096          +0.7650\n",
      "        30     -139292.9707          +1.4388\n",
      "        31     -139291.3032          +1.6676\n",
      "        32     -139290.3609          +0.9422\n",
      "        33     -139290.0873          +0.2737\n",
      "        34     -139289.9867          +0.1005\n",
      "        35     -139289.9406          +0.0461\n",
      "        36     -139289.9125          +0.0280\n",
      "        37     -139289.8844          +0.0281\n",
      "        38     -139289.8297          +0.0547\n",
      "        39     -139289.6268          +0.2029\n",
      "        40     -139288.6202          +1.0066\n",
      "        41     -139286.7805          +1.8397\n",
      "        42     -139285.2850          +1.4955\n",
      "        43     -139284.5491          +0.7359\n",
      "        44     -139284.1847          +0.3644\n",
      "        45     -139284.0504          +0.1343\n",
      "        46     -139284.0141          +0.0362\n",
      "        47     -139283.9740          +0.0402\n",
      "        48     -139283.8769          +0.0970\n",
      "        49     -139283.7873          +0.0896\n",
      "        50     -139283.8255          -0.0382\n"
     ]
    },
    {
     "name": "stdout",
     "output_type": "stream",
     "text": [
      "[[0.5 0.5 0.  0.  0.  0. ]\n",
      " [0.  0.5 0.5 0.  0.  0. ]\n",
      " [0.  0.  0.5 0.5 0.  0. ]\n",
      " [0.  0.  0.  0.5 0.5 0. ]\n",
      " [0.  0.  0.  0.  0.5 0.5]\n",
      " [0.  0.  0.  0.  0.  1. ]]\n"
     ]
    },
    {
     "name": "stderr",
     "output_type": "stream",
     "text": [
      "         1     -139713.7176             +nan\n",
      "         2     -136023.0503       +3690.6673\n",
      "         3     -134984.1512       +1038.8991\n",
      "         4     -134205.7008        +778.4504\n",
      "         5     -133664.2259        +541.4748\n",
      "         6     -133462.9905        +201.2355\n",
      "         7     -133417.3865         +45.6040\n",
      "         8     -133388.2921         +29.0944\n",
      "         9     -133360.0712         +28.2209\n",
      "        10     -133322.9638         +37.1073\n",
      "        11     -133299.0933         +23.8705\n",
      "        12     -133286.3805         +12.7128\n",
      "        13     -133284.9726          +1.4079\n",
      "        14     -133290.1972          -5.2247\n"
     ]
    }
   ],
   "source": [
    "import hmmlearn.hmm as hmm\n",
    "\n",
    "model = {}\n",
    "for idx, cname in enumerate(class_names):\n",
    "    start_prob = np.full(states[idx], 0.0)\n",
    "    start_prob[0] = 1.0\n",
    "    trans_matrix = np.full((states[idx], states[idx]), 0.0)\n",
    "    p = 0.5\n",
    "    np.fill_diagonal(trans_matrix, p)\n",
    "    np.fill_diagonal(trans_matrix[0:, 1:], 1 - p)\n",
    "    trans_matrix[-1, -1] = 1.0\n",
    "    \n",
    "    #trans matrix\n",
    "    print(trans_matrix) \n",
    "\n",
    "    model[cname] = hmm.GaussianHMM(\n",
    "        n_components=states[idx], \n",
    "        verbose=True, \n",
    "        n_iter=300, \n",
    "        startprob_prior=start_prob, \n",
    "        transmat_prior=trans_matrix,\n",
    "        params='stmc',\n",
    "        init_params='mc',\n",
    "        random_state=42\n",
    "    )\n",
    "\n",
    "    model[cname].fit(X=np.vstack(X['train'][cname]), lengths=[x.shape[0] for x in X['train'][cname]])"
   ]
  },
  {
   "cell_type": "code",
   "execution_count": 13,
   "metadata": {},
   "outputs": [],
   "source": [
    "import pickle\n",
    "\n",
    "# save model\n",
    "for cname in class_names:\n",
    "    name = f'model_{cname}.pkl'\n",
    "    with open(name, 'wb') as file: \n",
    "        pickle.dump(model[cname], file)"
   ]
  },
  {
   "cell_type": "code",
   "execution_count": 14,
   "metadata": {},
   "outputs": [],
   "source": [
    "import pickle, os\n",
    "import numpy as np\n",
    "\n",
    "from sklearn.metrics import classification_report"
   ]
  },
  {
   "cell_type": "code",
   "execution_count": 15,
   "metadata": {},
   "outputs": [
    {
     "name": "stdout",
     "output_type": "stream",
     "text": [
      "[0, 0, 0, 0, 0, 0, 0, 0, 0, 0, 0, 0, 0, 0, 0, 0, 0, 0, 0, 0, 0, 0, 0, 0, 0, 0, 0, 0, 0, 0, 0, 0, 0, 1, 1, 1, 1, 1, 1, 1, 1, 1, 1, 1, 1, 1, 1, 1, 1, 1, 1, 1, 1, 1, 1, 1, 1, 1, 1, 1, 1, 1, 1, 1, 1, 1, 2, 2, 2, 2, 2, 2, 2, 2, 2, 2, 2, 2, 2, 2, 2, 2, 2, 2, 2, 2, 2, 2, 2, 2, 2, 2, 2, 2, 2, 2, 2, 2, 2, 3, 3, 3, 3, 3, 3, 3, 3, 3, 3, 3, 3, 3, 3, 3, 3, 3, 3, 3, 3, 3, 3, 3, 3, 3, 3, 3, 3, 3, 3, 3, 3, 3, 4, 4, 4, 4, 4, 4, 4, 4, 4, 4, 4, 4, 4, 4, 4, 4, 4, 4, 4, 4, 4, 4, 4, 4, 4, 4, 4, 4, 4, 4, 4, 4, 4]\n",
      "[0, 0, 0, 0, 0, 0, 0, 0, 0, 0, 0, 0, 0, 0, 0, 0, 0, 0, 0, 0, 0, 0, 0, 0, 0, 0, 0, 1, 0, 0, 0, 0, 0, 1, 1, 1, 1, 1, 1, 1, 1, 1, 1, 1, 1, 1, 1, 1, 1, 1, 1, 1, 1, 1, 1, 1, 1, 1, 1, 1, 1, 1, 1, 1, 1, 1, 3, 2, 2, 2, 2, 2, 2, 2, 2, 2, 2, 2, 2, 2, 2, 2, 2, 2, 2, 2, 2, 2, 4, 2, 2, 2, 2, 2, 2, 2, 2, 2, 2, 3, 3, 3, 3, 3, 3, 3, 3, 3, 3, 3, 3, 3, 3, 3, 3, 3, 3, 3, 3, 3, 3, 3, 3, 3, 3, 3, 3, 3, 3, 3, 3, 3, 4, 4, 4, 4, 4, 4, 4, 4, 2, 4, 4, 4, 4, 4, 4, 4, 4, 4, 4, 4, 4, 4, 3, 0, 4, 4, 4, 4, 2, 4, 4, 4, 4]\n"
     ]
    }
   ],
   "source": [
    "y_true = []\n",
    "y_pred = []\n",
    "for cname in class_names:\n",
    "    for mfcc, target in zip(X['test'][cname], y['test'][cname]):\n",
    "        scores = [model[cname].score(mfcc) for cname in class_names]\n",
    "        pred = np.argmax(scores)\n",
    "        y_pred.append(pred)\n",
    "        y_true.append(target)\n",
    "print(y_true)\n",
    "print(y_pred)"
   ]
  },
  {
   "cell_type": "code",
   "execution_count": 16,
   "metadata": {},
   "outputs": [
    {
     "name": "stdout",
     "output_type": "stream",
     "text": [
      "              precision    recall  f1-score   support\n",
      "\n",
      "       cothe       0.97      0.97      0.97        33\n",
      "       khong       0.97      1.00      0.99        33\n",
      "       nguoi       0.94      0.94      0.94        33\n",
      "         toi       0.94      1.00      0.97        33\n",
      "          va       0.97      0.88      0.92        33\n",
      "\n",
      "    accuracy                           0.96       165\n",
      "   macro avg       0.96      0.96      0.96       165\n",
      "weighted avg       0.96      0.96      0.96       165\n",
      "\n"
     ]
    }
   ],
   "source": [
    "report = classification_report(y_true, y_pred, target_names=class_names)\n",
    "print(report)"
   ]
  },
  {
   "cell_type": "code",
   "execution_count": 17,
   "metadata": {},
   "outputs": [],
   "source": [
    "model = {}\n",
    "for key in class_names:\n",
    "    name = f\"model_{key}.pkl\"\n",
    "    with open(name, 'rb') as file:\n",
    "        model[key] = pickle.load(file)"
   ]
  },
  {
   "cell_type": "code",
   "execution_count": 18,
   "metadata": {},
   "outputs": [
    {
     "name": "stdout",
     "output_type": "stream",
     "text": [
      "{'cothe': GaussianHMM(init_params='mc', n_components=12, n_iter=300, random_state=42,\n",
      "            startprob_prior=array([1., 0., 0., 0., 0., 0., 0., 0., 0., 0., 0., 0.]),\n",
      "            transmat_prior=array([[0.5, 0.5, 0. , 0. , 0. , 0. , 0. , 0. , 0. , 0. , 0. , 0. ],\n",
      "       [0. , 0.5, 0.5, 0. , 0. , 0. , 0. , 0. , 0. , 0. , 0. , 0. ],\n",
      "       [0. , 0. , 0.5, 0.5, 0. , 0. , 0. , 0. , 0. , 0. , 0. , 0. ],\n",
      "       [0. , 0. , 0. , 0.5, 0.5, 0. , 0. , 0. , 0. , 0. , 0. , 0. ],\n",
      "       [0. , 0. , 0. , 0. , 0.5, 0.5, 0. , 0. , 0. , 0. , 0. , 0. ],\n",
      "       [0. , 0. , 0. , 0. , 0. , 0.5, 0.5, 0. , 0. , 0. , 0. , 0. ],\n",
      "       [0. , 0. , 0. , 0. , 0. , 0. , 0.5, 0.5, 0. , 0. , 0. , 0. ],\n",
      "       [0. , 0. , 0. , 0. , 0. , 0. , 0. , 0.5, 0.5, 0. , 0. , 0. ],\n",
      "       [0. , 0. , 0. , 0. , 0. , 0. , 0. , 0. , 0.5, 0.5, 0. , 0. ],\n",
      "       [0. , 0. , 0. , 0. , 0. , 0. , 0. , 0. , 0. , 0.5, 0.5, 0. ],\n",
      "       [0. , 0. , 0. , 0. , 0. , 0. , 0. , 0. , 0. , 0. , 0.5, 0.5],\n",
      "       [0. , 0. , 0. , 0. , 0. , 0. , 0. , 0. , 0. , 0. , 0. , 1. ]]),\n",
      "            verbose=True), 'khong': GaussianHMM(init_params='mc', n_components=9, n_iter=300, random_state=42,\n",
      "            startprob_prior=array([1., 0., 0., 0., 0., 0., 0., 0., 0.]),\n",
      "            transmat_prior=array([[0.5, 0.5, 0. , 0. , 0. , 0. , 0. , 0. , 0. ],\n",
      "       [0. , 0.5, 0.5, 0. , 0. , 0. , 0. , 0. , 0. ],\n",
      "       [0. , 0. , 0.5, 0.5, 0. , 0. , 0. , 0. , 0. ],\n",
      "       [0. , 0. , 0. , 0.5, 0.5, 0. , 0. , 0. , 0. ],\n",
      "       [0. , 0. , 0. , 0. , 0.5, 0.5, 0. , 0. , 0. ],\n",
      "       [0. , 0. , 0. , 0. , 0. , 0.5, 0.5, 0. , 0. ],\n",
      "       [0. , 0. , 0. , 0. , 0. , 0. , 0.5, 0.5, 0. ],\n",
      "       [0. , 0. , 0. , 0. , 0. , 0. , 0. , 0.5, 0.5],\n",
      "       [0. , 0. , 0. , 0. , 0. , 0. , 0. , 0. , 1. ]]),\n",
      "            verbose=True), 'nguoi': GaussianHMM(init_params='mc', n_components=9, n_iter=300, random_state=42,\n",
      "            startprob_prior=array([1., 0., 0., 0., 0., 0., 0., 0., 0.]),\n",
      "            transmat_prior=array([[0.5, 0.5, 0. , 0. , 0. , 0. , 0. , 0. , 0. ],\n",
      "       [0. , 0.5, 0.5, 0. , 0. , 0. , 0. , 0. , 0. ],\n",
      "       [0. , 0. , 0.5, 0.5, 0. , 0. , 0. , 0. , 0. ],\n",
      "       [0. , 0. , 0. , 0.5, 0.5, 0. , 0. , 0. , 0. ],\n",
      "       [0. , 0. , 0. , 0. , 0.5, 0.5, 0. , 0. , 0. ],\n",
      "       [0. , 0. , 0. , 0. , 0. , 0.5, 0.5, 0. , 0. ],\n",
      "       [0. , 0. , 0. , 0. , 0. , 0. , 0.5, 0.5, 0. ],\n",
      "       [0. , 0. , 0. , 0. , 0. , 0. , 0. , 0.5, 0.5],\n",
      "       [0. , 0. , 0. , 0. , 0. , 0. , 0. , 0. , 1. ]]),\n",
      "            verbose=True), 'toi': GaussianHMM(init_params='mc', n_components=9, n_iter=300, random_state=42,\n",
      "            startprob_prior=array([1., 0., 0., 0., 0., 0., 0., 0., 0.]),\n",
      "            transmat_prior=array([[0.5, 0.5, 0. , 0. , 0. , 0. , 0. , 0. , 0. ],\n",
      "       [0. , 0.5, 0.5, 0. , 0. , 0. , 0. , 0. , 0. ],\n",
      "       [0. , 0. , 0.5, 0.5, 0. , 0. , 0. , 0. , 0. ],\n",
      "       [0. , 0. , 0. , 0.5, 0.5, 0. , 0. , 0. , 0. ],\n",
      "       [0. , 0. , 0. , 0. , 0.5, 0.5, 0. , 0. , 0. ],\n",
      "       [0. , 0. , 0. , 0. , 0. , 0.5, 0.5, 0. , 0. ],\n",
      "       [0. , 0. , 0. , 0. , 0. , 0. , 0.5, 0.5, 0. ],\n",
      "       [0. , 0. , 0. , 0. , 0. , 0. , 0. , 0.5, 0.5],\n",
      "       [0. , 0. , 0. , 0. , 0. , 0. , 0. , 0. , 1. ]]),\n",
      "            verbose=True), 'va': GaussianHMM(init_params='mc', n_components=6, n_iter=300, random_state=42,\n",
      "            startprob_prior=array([1., 0., 0., 0., 0., 0.]),\n",
      "            transmat_prior=array([[0.5, 0.5, 0. , 0. , 0. , 0. ],\n",
      "       [0. , 0.5, 0.5, 0. , 0. , 0. ],\n",
      "       [0. , 0. , 0.5, 0.5, 0. , 0. ],\n",
      "       [0. , 0. , 0. , 0.5, 0.5, 0. ],\n",
      "       [0. , 0. , 0. , 0. , 0.5, 0.5],\n",
      "       [0. , 0. , 0. , 0. , 0. , 1. ]]),\n",
      "            verbose=True)}\n"
     ]
    }
   ],
   "source": [
    "print(model)"
   ]
  },
  {
   "cell_type": "code",
   "execution_count": null,
   "metadata": {},
   "outputs": [],
   "source": []
  },
  {
   "cell_type": "code",
   "execution_count": 33,
   "metadata": {},
   "outputs": [
    {
     "name": "stdout",
     "output_type": "stream",
     "text": [
      "toi\n"
     ]
    }
   ],
   "source": [
    "record_mfcc = get_mfcc(\"mashup.wav\")\n",
    "scores = [model[cname].score(record_mfcc) for cname in class_names]\n",
    "pred = np.argmax(scores)\n",
    "print(class_names[pred])"
   ]
  },
  {
   "cell_type": "code",
   "execution_count": null,
   "metadata": {},
   "outputs": [],
   "source": []
  },
  {
   "cell_type": "code",
   "execution_count": 30,
   "metadata": {},
   "outputs": [],
   "source": [
    "from tkinter import messagebox\n",
    "\n",
    "\n",
    "def record():\n",
    "    \n",
    "\n",
    "\n",
    "def predict():\n",
    "    record_mfcc = get_mfcc(\"record.wav\")\n",
    "    scores = [model[cname].score(record_mfcc) for cname in class_names]\n",
    "    pred = np.argmax(scores)\n",
    "    messagebox.showinfo(\"result\", class_names[pred])\n"
   ]
  },
  {
   "cell_type": "code",
   "execution_count": 31,
   "metadata": {},
   "outputs": [
    {
     "name": "stdout",
     "output_type": "stream",
     "text": [
      "* recording\n"
     ]
    },
    {
     "name": "stderr",
     "output_type": "stream",
     "text": [
      "Exception in Tkinter callback\n",
      "Traceback (most recent call last):\n",
      "  File \"C:\\Users\\Admin\\.conda\\envs\\voice\\lib\\tkinter\\__init__.py\", line 1705, in __call__\n",
      "    return self.func(*args)\n",
      "  File \"<ipython-input-30-cbc0861442a6>\", line 27, in record\n",
      "    binary = b64decode(data.split(',')[1])\n",
      "AttributeError: 'Stream' object has no attribute 'split'\n"
     ]
    }
   ],
   "source": [
    "import tkinter as tk\n",
    "\n",
    "window = tk.Tk()\n",
    "window.geometry(\"300x200\")\n",
    "window.title(\"record and predict\")\n",
    "\n",
    "frame1 = tk.Frame(master=window)\n",
    "frame1.pack()\n",
    "\n",
    "frame2 = tk.Frame(master=window)\n",
    "frame2.pack()\n",
    "\n",
    "btn_record = tk.Button(master=frame1, text=\"record\", command=record)\n",
    "btn_record.pack(side=tk.LEFT)\n",
    "\n",
    "btn_stop = tk.Button(master=frame1, text=\"stop\")\n",
    "btn_stop.pack(side=tk.LEFT)\n",
    "\n",
    "btn_playback = tk.Button(master=frame2, text=\"playback\")\n",
    "btn_playback.pack(side=tk.LEFT)\n",
    "\n",
    "btn_predict = tk.Button(master=frame2, text=\"predict\", command=predict)\n",
    "btn_predict.pack(side=tk.LEFT)\n",
    "\n",
    "window.mainloop()"
   ]
  },
  {
   "cell_type": "code",
   "execution_count": 53,
   "metadata": {},
   "outputs": [
    {
     "name": "stdout",
     "output_type": "stream",
     "text": [
      "* recording\n",
      "* done recording\n"
     ]
    }
   ],
   "source": [
    "import pyaudio\n",
    "import wave\n",
    "from base64 import b64decode\n",
    "\n",
    "CHUNK = 1024\n",
    "FORMAT = pyaudio.paInt16\n",
    "CHANNELS = 1\n",
    "RATE = 22050\n",
    "RECORD_SECONDS = 2\n",
    "WAVE_OUTPUT_FILENAME = \"output.wav\"\n",
    "\n",
    "p = pyaudio.PyAudio()\n",
    "\n",
    "stream = p.open(format=FORMAT,\n",
    "                channels=CHANNELS,\n",
    "                rate=RATE,\n",
    "                input=True,\n",
    "                frames_per_buffer=CHUNK)\n",
    "\n",
    "print(\"* recording\")\n",
    "\n",
    "\n",
    "\n",
    "frames = []\n",
    "\n",
    "for i in range(0, int(RATE / CHUNK * RECORD_SECONDS)):\n",
    "    data = stream.read(CHUNK)\n",
    "    frames.append(data)\n",
    "\n",
    "\n",
    "\n",
    "print(\"* done recording\")\n",
    "\n",
    "stream.stop_stream()\n",
    "stream.close()\n",
    "p.terminate()\n",
    "\n",
    "wf = wave.open(WAVE_OUTPUT_FILENAME, 'wb')\n",
    "wf.setnchannels(CHANNELS)\n",
    "wf.setsampwidth(p.get_sample_size(FORMAT))\n",
    "wf.setframerate(RATE)\n",
    "wf.writeframes(b''.join(frames))\n",
    "wf.close()\n"
   ]
  },
  {
   "cell_type": "code",
   "execution_count": 54,
   "metadata": {},
   "outputs": [
    {
     "data": {
      "text/plain": [
       "<_io.BufferedRandom name='mashup.wav'>"
      ]
     },
     "execution_count": 54,
     "metadata": {},
     "output_type": "execute_result"
    }
   ],
   "source": [
    "from pydub import AudioSegment\n",
    "import ffmpeg\n",
    "\n",
    "def detect_leading_silence(sound, silence_threshold=-50.0, chunk_size=10):\n",
    "    '''\n",
    "    sound is a pydub.AudioSegment\n",
    "    silence_threshold in dB\n",
    "    chunk_size in ms\n",
    "\n",
    "    iterate over chunks until you find the first one with sound\n",
    "    '''\n",
    "    trim_ms = 0 # ms\n",
    "\n",
    "    assert chunk_size > 0 # to avoid infinite loop\n",
    "    while sound[trim_ms:trim_ms+chunk_size].dBFS < silence_threshold and trim_ms < len(sound):\n",
    "        trim_ms += chunk_size\n",
    "\n",
    "    return trim_ms\n",
    "\n",
    "sound = AudioSegment.from_file(\"output.wav\", format=\"wav\")\n",
    "\n",
    "start_trim = detect_leading_silence(sound)\n",
    "end_trim = detect_leading_silence(sound.reverse())\n",
    "\n",
    "duration = len(sound)    \n",
    "trimmed_sound = sound[start_trim:duration-end_trim]\n",
    "\n",
    "trimmed_sound.export(\"mashup.wav\", format=\"wav\")"
   ]
  },
  {
   "cell_type": "code",
   "execution_count": 55,
   "metadata": {},
   "outputs": [
    {
     "name": "stdout",
     "output_type": "stream",
     "text": [
      "va\n"
     ]
    }
   ],
   "source": [
    "record_mfcc = get_mfcc(\"mashup.wav\")\n",
    "scores = [model[cname].score(record_mfcc) for cname in class_names]\n",
    "pred = np.argmax(scores)\n",
    "print(class_names[pred])"
   ]
  },
  {
   "cell_type": "code",
   "execution_count": null,
   "metadata": {},
   "outputs": [],
   "source": []
  }
 ],
 "metadata": {
  "kernelspec": {
   "display_name": "Python 3",
   "language": "python",
   "name": "python3"
  },
  "language_info": {
   "codemirror_mode": {
    "name": "ipython",
    "version": 3
   },
   "file_extension": ".py",
   "mimetype": "text/x-python",
   "name": "python",
   "nbconvert_exporter": "python",
   "pygments_lexer": "ipython3",
   "version": "3.7.7"
  }
 },
 "nbformat": 4,
 "nbformat_minor": 4
}
